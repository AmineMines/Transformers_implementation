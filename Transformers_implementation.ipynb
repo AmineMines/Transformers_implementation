{
  "nbformat": 4,
  "nbformat_minor": 0,
  "metadata": {
    "colab": {
      "provenance": [],
      "gpuType": "T4"
    },
    "kernelspec": {
      "name": "python3",
      "display_name": "Python 3"
    },
    "accelerator": "GPU"
  },
  "cells": [
    {
      "metadata": {
        "id": "twPUp-bbeww2"
      },
      "cell_type": "markdown",
      "source": [
        "## Training with pytorch"
      ]
    },
    {
      "metadata": {
        "id": "QwF495MIe0-e"
      },
      "cell_type": "markdown",
      "source": [
        "### Install pytorch"
      ]
    },
    {
      "metadata": {
        "id": "h8U839iGXCH3",
        "colab": {
          "base_uri": "https://localhost:8080/"
        },
        "outputId": "83092568-9df4-4de2-b587-f0c0982e8b64"
      },
      "cell_type": "code",
      "source": [
        "!pip install torch torchvision"
      ],
      "execution_count": null,
      "outputs": [
        {
          "output_type": "stream",
          "name": "stdout",
          "text": [
            "Requirement already satisfied: torch in /usr/local/lib/python3.10/dist-packages (2.0.1+cu118)\n",
            "Requirement already satisfied: torchvision in /usr/local/lib/python3.10/dist-packages (0.15.2+cu118)\n",
            "Requirement already satisfied: filelock in /usr/local/lib/python3.10/dist-packages (from torch) (3.12.2)\n",
            "Requirement already satisfied: typing-extensions in /usr/local/lib/python3.10/dist-packages (from torch) (4.5.0)\n",
            "Requirement already satisfied: sympy in /usr/local/lib/python3.10/dist-packages (from torch) (1.12)\n",
            "Requirement already satisfied: networkx in /usr/local/lib/python3.10/dist-packages (from torch) (3.1)\n",
            "Requirement already satisfied: jinja2 in /usr/local/lib/python3.10/dist-packages (from torch) (3.1.2)\n",
            "Requirement already satisfied: triton==2.0.0 in /usr/local/lib/python3.10/dist-packages (from torch) (2.0.0)\n",
            "Requirement already satisfied: cmake in /usr/local/lib/python3.10/dist-packages (from triton==2.0.0->torch) (3.27.4.1)\n",
            "Requirement already satisfied: lit in /usr/local/lib/python3.10/dist-packages (from triton==2.0.0->torch) (16.0.6)\n",
            "Requirement already satisfied: numpy in /usr/local/lib/python3.10/dist-packages (from torchvision) (1.23.5)\n",
            "Requirement already satisfied: requests in /usr/local/lib/python3.10/dist-packages (from torchvision) (2.31.0)\n",
            "Requirement already satisfied: pillow!=8.3.*,>=5.3.0 in /usr/local/lib/python3.10/dist-packages (from torchvision) (9.4.0)\n",
            "Requirement already satisfied: MarkupSafe>=2.0 in /usr/local/lib/python3.10/dist-packages (from jinja2->torch) (2.1.3)\n",
            "Requirement already satisfied: charset-normalizer<4,>=2 in /usr/local/lib/python3.10/dist-packages (from requests->torchvision) (3.2.0)\n",
            "Requirement already satisfied: idna<4,>=2.5 in /usr/local/lib/python3.10/dist-packages (from requests->torchvision) (3.4)\n",
            "Requirement already satisfied: urllib3<3,>=1.21.1 in /usr/local/lib/python3.10/dist-packages (from requests->torchvision) (2.0.4)\n",
            "Requirement already satisfied: certifi>=2017.4.17 in /usr/local/lib/python3.10/dist-packages (from requests->torchvision) (2023.7.22)\n",
            "Requirement already satisfied: mpmath>=0.19 in /usr/local/lib/python3.10/dist-packages (from sympy->torch) (1.3.0)\n"
          ]
        }
      ]
    },
    {
      "metadata": {
        "id": "xvQg0U8GMUYS"
      },
      "cell_type": "markdown",
      "source": [
        "### Convert the numpy arrays into pytorch tensor"
      ]
    },
    {
      "metadata": {
        "id": "MWIINUezQn6H"
      },
      "cell_type": "code",
      "source": [
        "def create_dataset(x, y, flatten=False):\n",
        "    if flatten:\n",
        "        # Convert it into a matrix (N [samples], 28*28 [dims])\n",
        "        xt = torch.from_numpy(x).view(len(x), -1)\n",
        "    else:\n",
        "        # Convert it into a 4D tensor (N [samples], 1 [ch], 28 [px], 28 [px])\n",
        "        xt = torch.from_numpy(x).unsqueeze(1)\n",
        "    yt = torch.from_numpy(y).long()\n",
        "    return TensorDataset(xt, yt)\n",
        "\n",
        "def test_model(model, loss_fn, test_loader, device):\n",
        "    model.eval()\n",
        "\n",
        "    loss = 0.\n",
        "    num_correct = 0.\n",
        "    for batch_idx, (x, y) in enumerate(test_loader):\n",
        "        x, y = x.to(device), y.to(device)\n",
        "        y_pred = model(x)\n",
        "        loss += loss_fn(y_pred, y).item()\n",
        "        _, predicted = torch.max(y_pred.data, 1)\n",
        "        num_correct += (predicted == y).sum().item()\n",
        "\n",
        "    model.train()\n",
        "    loss /= len(test_loader.dataset)\n",
        "    num_correct /= len(test_loader.dataset)\n",
        "    return loss, num_correct"
      ],
      "execution_count": null,
      "outputs": []
    },
    {
      "metadata": {
        "id": "Sr0ejX6YM7ej"
      },
      "cell_type": "markdown",
      "source": [
        "### Single-layer neural network"
      ]
    },
    {
      "metadata": {
        "id": "cTkt86amTqCP"
      },
      "cell_type": "code",
      "source": [
        "import torch\n",
        "import torch.nn as nn\n",
        "import torch.optim as optim\n",
        "from torch.utils.data import TensorDataset, DataLoader\n",
        "import numpy as np\n",
        "\n",
        "#device = torch.device(\"cpu\") # Uncomment this to run on CPU\n",
        "device = torch.device(\"cuda:0\") # Uncomment this to run on GPU\n",
        "\n",
        "def create_dataset(x, y):\n",
        "    xt = torch.from_numpy(x).view(len(x), -1)\n",
        "    yt = torch.from_numpy(y).long()\n",
        "    return TensorDataset(xt, yt)\n",
        "\n",
        "model = nn.Sequential()\n",
        "model.add_module('fc1', nn.Linear(784, 10, bias=True))\n",
        "model.to(device)\n",
        "\n",
        "data = np.load('mnist.npz')\n",
        "train_set = create_dataset(data['train_x'], data['train_y'])\n",
        "train_loader = DataLoader(train_set, batch_size=256, shuffle=True)\n",
        "\n",
        "loss_fn = nn.CrossEntropyLoss(size_average=False)\n",
        "optimizer = optim.SGD(model.parameters(), lr=0.001)\n",
        "\n",
        "for t in range(100):\n",
        "    # Training loop for mini-batches\n",
        "    for batch_idx, (x, y) in enumerate(train_loader):\n",
        "        # Make predictions with the current parameters.\n",
        "        x, y = x.to(device), y.to(device)\n",
        "        y_pred = model(x)\n",
        "\n",
        "        # Compute the loss value.\n",
        "        loss = loss_fn(y_pred, y)\n",
        "\n",
        "        # Update the parameters.\n",
        "        optimizer.zero_grad()\n",
        "        loss.backward()\n",
        "        optimizer.step()"
      ],
      "execution_count": null,
      "outputs": []
    },
    {
      "metadata": {
        "id": "VWeH4oiZW_nf",
        "colab": {
          "base_uri": "https://localhost:8080/",
          "height": 293
        },
        "outputId": "6fe51e3e-3f0b-400a-c859-32e5592655dd"
      },
      "cell_type": "code",
      "source": [
        "import torch\n",
        "import torch.nn as nn\n",
        "import torch.optim as optim\n",
        "from torch.utils.data import TensorDataset, DataLoader\n",
        "import numpy as np\n",
        "from livelossplot import PlotLosses\n",
        "\n",
        "#device = torch.device(\"cpu\") # Uncomment this to run on CPU\n",
        "device = torch.device(\"cuda:0\") # Uncomment this to run on GPU\n",
        "\n",
        "model = nn.Sequential()\n",
        "model.add_module('fc1', nn.Linear(784, 10, bias=True))\n",
        "print(model)\n",
        "model.to(device)\n",
        "\n",
        "data = np.load('mnist.npz')\n",
        "train_set = create_dataset(data['train_x'], data['train_y'], flatten=True)\n",
        "test_set = create_dataset(data['test_x'], data['test_y'], flatten=True)\n",
        "train_loader = DataLoader(train_set, batch_size=256, shuffle=True)\n",
        "test_loader = DataLoader(test_set, batch_size=128)\n",
        "\n",
        "loss_fn = nn.CrossEntropyLoss(size_average=False)\n",
        "optimizer = optim.SGD(model.parameters(), lr=0.001)\n",
        "\n",
        "liveloss = PlotLosses()\n",
        "for t in range(100):\n",
        "    train_loss = 0.\n",
        "    train_correct = 0\n",
        "\n",
        "    # Training loop for mini-batches\n",
        "    for batch_idx, (x, y) in enumerate(train_loader):\n",
        "        # Make predictions with the current parameters.\n",
        "        x, y = x.to(device), y.to(device)\n",
        "        y_pred = model(x)\n",
        "        _, predicted = torch.max(y_pred.data, 1)\n",
        "        train_correct += (predicted == y).sum().item()\n",
        "\n",
        "        # Compute the loss value.\n",
        "        loss = loss_fn(y_pred, y)\n",
        "        train_loss += loss.item()\n",
        "\n",
        "        # Update the parameters.\n",
        "        optimizer.zero_grad()\n",
        "        loss.backward()\n",
        "        optimizer.step()\n",
        "\n",
        "    # Compute the average loss and accuracy.\n",
        "    train_loss /= len(train_loader.dataset)\n",
        "    train_correct /= float(len(train_loader.dataset))\n",
        "\n",
        "    # Evaluate the model on the test set.\n",
        "    test_loss, test_correct = test_model(model, loss_fn, test_loader, device)\n",
        "\n",
        "    # Visualize the loss and accuracy values.\n",
        "    liveloss.update({\n",
        "        'log loss': train_loss,\n",
        "        'val_log loss': test_loss,\n",
        "        'accuracy': train_correct,\n",
        "        'val_accuracy': test_correct,\n",
        "    })\n",
        "    liveloss.draw()\n",
        "\n",
        "print('Accuracy: {:.4f} (test), {:.4f} (train)'.format(test_correct, train_correct))"
      ],
      "execution_count": null,
      "outputs": [
        {
          "output_type": "stream",
          "name": "stdout",
          "text": [
            "Sequential(\n",
            "  (fc1): Linear(in_features=784, out_features=10, bias=True)\n",
            ")\n"
          ]
        },
        {
          "output_type": "error",
          "ename": "TypeError",
          "evalue": "ignored",
          "traceback": [
            "\u001b[0;31m---------------------------------------------------------------------------\u001b[0m",
            "\u001b[0;31mTypeError\u001b[0m                                 Traceback (most recent call last)",
            "\u001b[0;32m<ipython-input-10-87cdc8205e55>\u001b[0m in \u001b[0;36m<cell line: 17>\u001b[0;34m()\u001b[0m\n\u001b[1;32m     15\u001b[0m \u001b[0;34m\u001b[0m\u001b[0m\n\u001b[1;32m     16\u001b[0m \u001b[0mdata\u001b[0m \u001b[0;34m=\u001b[0m \u001b[0mnp\u001b[0m\u001b[0;34m.\u001b[0m\u001b[0mload\u001b[0m\u001b[0;34m(\u001b[0m\u001b[0;34m'mnist.npz'\u001b[0m\u001b[0;34m)\u001b[0m\u001b[0;34m\u001b[0m\u001b[0;34m\u001b[0m\u001b[0m\n\u001b[0;32m---> 17\u001b[0;31m \u001b[0mtrain_set\u001b[0m \u001b[0;34m=\u001b[0m \u001b[0mcreate_dataset\u001b[0m\u001b[0;34m(\u001b[0m\u001b[0mdata\u001b[0m\u001b[0;34m[\u001b[0m\u001b[0;34m'train_x'\u001b[0m\u001b[0;34m]\u001b[0m\u001b[0;34m,\u001b[0m \u001b[0mdata\u001b[0m\u001b[0;34m[\u001b[0m\u001b[0;34m'train_y'\u001b[0m\u001b[0;34m]\u001b[0m\u001b[0;34m,\u001b[0m \u001b[0mflatten\u001b[0m\u001b[0;34m=\u001b[0m\u001b[0;32mTrue\u001b[0m\u001b[0;34m)\u001b[0m\u001b[0;34m\u001b[0m\u001b[0;34m\u001b[0m\u001b[0m\n\u001b[0m\u001b[1;32m     18\u001b[0m \u001b[0mtest_set\u001b[0m \u001b[0;34m=\u001b[0m \u001b[0mcreate_dataset\u001b[0m\u001b[0;34m(\u001b[0m\u001b[0mdata\u001b[0m\u001b[0;34m[\u001b[0m\u001b[0;34m'test_x'\u001b[0m\u001b[0;34m]\u001b[0m\u001b[0;34m,\u001b[0m \u001b[0mdata\u001b[0m\u001b[0;34m[\u001b[0m\u001b[0;34m'test_y'\u001b[0m\u001b[0;34m]\u001b[0m\u001b[0;34m,\u001b[0m \u001b[0mflatten\u001b[0m\u001b[0;34m=\u001b[0m\u001b[0;32mTrue\u001b[0m\u001b[0;34m)\u001b[0m\u001b[0;34m\u001b[0m\u001b[0;34m\u001b[0m\u001b[0m\n\u001b[1;32m     19\u001b[0m \u001b[0mtrain_loader\u001b[0m \u001b[0;34m=\u001b[0m \u001b[0mDataLoader\u001b[0m\u001b[0;34m(\u001b[0m\u001b[0mtrain_set\u001b[0m\u001b[0;34m,\u001b[0m \u001b[0mbatch_size\u001b[0m\u001b[0;34m=\u001b[0m\u001b[0;36m256\u001b[0m\u001b[0;34m,\u001b[0m \u001b[0mshuffle\u001b[0m\u001b[0;34m=\u001b[0m\u001b[0;32mTrue\u001b[0m\u001b[0;34m)\u001b[0m\u001b[0;34m\u001b[0m\u001b[0;34m\u001b[0m\u001b[0m\n",
            "\u001b[0;31mTypeError\u001b[0m: create_dataset() got an unexpected keyword argument 'flatten'"
          ]
        }
      ]
    },
    {
      "metadata": {
        "id": "3tEreUaGItQr"
      },
      "cell_type": "markdown",
      "source": [
        "### Three-layer neural network"
      ]
    },
    {
      "metadata": {
        "id": "cIaz8ZITRcJ2",
        "colab": {
          "base_uri": "https://localhost:8080/",
          "height": 341
        },
        "outputId": "2a506787-3e8f-4d20-8524-3e0c24d8e78c"
      },
      "cell_type": "code",
      "source": [
        "import torch\n",
        "import torch.nn as nn\n",
        "import torch.optim as optim\n",
        "from torch.utils.data import TensorDataset, DataLoader\n",
        "import numpy as np\n",
        "from livelossplot import PlotLosses\n",
        "\n",
        "#device = torch.device(\"cpu\") # Uncomment this to run on CPU\n",
        "device = torch.device(\"cuda:0\") # Uncomment this to run on GPU\n",
        "\n",
        "model = nn.Sequential()\n",
        "model.add_module('fc1',      nn.Linear(784, 256))\n",
        "model.add_module('relu1',    nn.ReLU())\n",
        "model.add_module('dropout1', nn.Dropout())\n",
        "model.add_module('fc2',      nn.Linear(256, 256))\n",
        "model.add_module('relu2',    nn.ReLU())\n",
        "model.add_module('dropout2', nn.Dropout())\n",
        "model.add_module('fc3',      nn.Linear(256, 10))\n",
        "print(model)\n",
        "model.to(device)\n",
        "\n",
        "data = np.load('mnist.npz')\n",
        "train_set = create_dataset(data['train_x'], data['train_y'], flatten=True)\n",
        "test_set = create_dataset(data['test_x'], data['test_y'], flatten=True)\n",
        "train_loader = DataLoader(train_set, batch_size=256, shuffle=True)\n",
        "test_loader = DataLoader(test_set, batch_size=128)\n",
        "\n",
        "loss_fn = nn.CrossEntropyLoss(size_average=False)\n",
        "optimizer = optim.SGD(model.parameters(), lr=0.001)\n",
        "\n",
        "liveloss = PlotLosses()\n",
        "for t in range(100):\n",
        "    train_loss = 0.\n",
        "    train_correct = 0\n",
        "\n",
        "    # Training loop for mini-batches\n",
        "    for batch_idx, (x, y) in enumerate(train_loader):\n",
        "        # Make predictions with the current parameters.\n",
        "        x, y = x.to(device), y.to(device)\n",
        "        y_pred = model(x)\n",
        "        _, predicted = torch.max(y_pred.data, 1)\n",
        "        train_correct += (predicted == y).sum().item()\n",
        "\n",
        "        # Compute the loss value.\n",
        "        loss = loss_fn(y_pred, y)\n",
        "        train_loss += loss.item()\n",
        "\n",
        "        # Update the parameters.\n",
        "        optimizer.zero_grad()\n",
        "        loss.backward()\n",
        "        optimizer.step()\n",
        "\n",
        "    # Compute the average loss and accuracy.\n",
        "    train_loss /= len(train_loader.dataset)\n",
        "    train_correct /= float(len(train_loader.dataset))\n",
        "\n",
        "    # Evaluate the model on the test set.\n",
        "    test_loss, test_correct = test_model(model, loss_fn, test_loader, device)\n",
        "\n",
        "    # Visualize the loss and accuracy values.\n",
        "    liveloss.update({\n",
        "        'log loss': train_loss,\n",
        "        'val_log loss': test_loss,\n",
        "        'accuracy': train_correct,\n",
        "        'val_accuracy': test_correct,\n",
        "    })\n",
        "    liveloss.draw()\n",
        "\n",
        "print('Accuracy: {:.4f} (test), {:.4f} (train)'.format(test_correct, train_correct))"
      ],
      "execution_count": null,
      "outputs": [
        {
          "output_type": "display_data",
          "data": {
            "image/png": "[encoded data removed]",
            "text/plain": [
              "<matplotlib.figure.Figure at 0x7fc50b0daac8>"
            ]
          },
          "metadata": {
            "tags": []
          }
        },
        {
          "output_type": "stream",
          "text": [
            "Accuracy: 0.9832 (test), 0.9908 (train)\n"
          ],
          "name": "stdout"
        }
      ]
    },
    {
      "metadata": {
        "id": "kjBd7K4lI3W5"
      },
      "cell_type": "markdown",
      "source": [
        "### Attention is all you need"
      ]
    },
    {
      "cell_type": "markdown",
      "source": [
        "Data"
      ],
      "metadata": {
        "id": "cwOpCwFHJOyF"
      }
    },
    {
      "cell_type": "code",
      "source": [
        "\n",
        "import torch\n",
        "import torch.nn as nn\n",
        "data = \"Transformers is a media franchise produced by American toy company Hasbro and Japanese toy company Takara Tomy   It primarily follows the heroic Autobots and the villainous Decepticons   two alien robot factions at war that can transform into other forms   such as vehicles and animals   The franchise encompasses toys   animation   comic books   video games and films   As of            it generated more than      trillion          billion   in revenue         making it one of the highest  grossing media franchises of all time  The franchise began in          with the Transformers toy line   comprising transforming mecha toys from Takara  s Diaclone and Micro Change toylines rebranded for Western markets         The term   Generation      covers both the animated television series The Transformers and the comic book series of the same name   which are further divided into Japanese   British and Canadian spin  offs   respectively   Sequels followed   such as the Generation    comic book and Beast Wars TV series   which became its own mini  universe   Generation    characters underwent two reboots with Dreamwave Productions in          and IDW Publishing in            with a third starting in            There have been other incarnations of the story based on different toy lines during and after the     th century   The first was the Robots in Disguise series   followed by three shows   Armada   Energon   and Cybertron   that constitute a single universe called the   Unicron Trilogy    A live  action film series started in            again distinct from previous incarnations   while the Transformers   Animated series merged concepts from the G   continuity   the          live  action film and the   Unicron Trilogy     For most of the         s   in an attempt to mitigate the wave of reboots   the   Aligned Continuity   was established   In            Transformers   Cyberverse debuted   once again   distinct from the previous incarnations  Although initially a separate and competing franchise started in            Tonka  s GoBots became the intellectual property of Hasbro after their buyout of Tonka in            Subsequently   the universe depicted in the animated series Challenge of the GoBots and follow  up film GoBots   Battle of the Rock Lords was retroactively established as an alternate universe within the Transformers multiverse        FictionTransformers   Generation                          Main articles   Transformers   Generation    and The Transformers   TV series  Classic Transformers franchise logo used until         Spider  Man battles Megatron on the cover of The Transformers       Generation One is a retroactive term for the Transformers characters that appeared between          and            The Transformers began with the         s Japanese toy lines Micro Change and Diaclone   They presented robots able to transform into everyday vehicles   electronic items or weapons   Hasbro bought the Micro Change and Diaclone toys   and partnered with Takara         Marvel Comics was hired by Hasbro to create the backstory   editor  in  chief Jim Shooter wrote an overall story   and gave the task of creating the characters to writer Dennis O  Neil         Unhappy with O  Neil  s work   although O  Neil created the name   Optimus Prime       Shooter chose Bob Budiansky to create the characters        The Transformers mecha were largely designed by Shōji Kawamori   the creator of the Japanese mecha anime franchise Macross   which was adapted into the Robotech franchise in North America           Kawamori came up with the idea of transforming mechs while working on the Diaclone and Macross franchises in the early         s   such as the VF     Valkyrie in Macross and Robotech     with his Diaclone mechs later providing the basis for Transformers        The primary concept of Generation One is that the heroic Optimus Prime   the villainous Megatron   and their finest soldiers crash land on pre  historic Earth in the Ark and the Nemesis before awakening in            Cybertron hurtling through the Neutral zone as an effect of the war   The Marvel comic was originally part of the main Marvel Universe   with appearances from Spider  Man and Nick Fury   plus some cameos         as well as a visit to the Savage Land          The Transformers TV series began around the same time   Produced by Sunbow Productions and Marvel Productions   later Hasbro Productions   from the start it contradicted Budiansky  s backstories   The TV series shows the Autobots looking for new energy sources   and crash landing as the Decepticons attack           Marvel interpreted the Autobots as destroying a rogue asteroid approaching Cybertron           Shockwave is loyal to Megatron in the TV series   keeping Cybertron in a stalemate during his absence           but in the comic book he attempts to take command of the Decepticons           The TV series would also differ wildly from the origins Budiansky had created for the Dinobots                   the Decepticon turned Autobot Jetfire           known as Skyfire on TV             the Constructicons   who combine to form Devastator                     and Omega Supreme                   The Marvel comic establishes early on that Prime wields the Creation Matrix   which gives life to machines   In the second season   the two  part episode The Key to Vector Sigma introduced the ancient Vector Sigma computer   which served the same original purpose as the Creation Matrix   giving life to Transformers     and its guardian Alpha Trion  In            the cartoon became the film The Transformers   The Movie   which is set in the year            It introduced the Matrix as the   Autobot Matrix of Leadership     as a fatally wounded Prime gives it to Ultra Magnus   however   as Prime dies he drops the matrix   which is then caught by Hot Rod who subsequently becomes Rodimus Prime later on in the film   Unicron   a transformer who devours planets   fears its power and recreates a heavily damaged Megatron as Galvatron   as well as Bombshell or Skywarp becoming Cyclonus   Thundercracker becoming Scourge and two other Insecticons becoming Scourge  s huntsmen   the Sweeps   Eventually   Rodimus Prime takes out the Matrix and destroys Unicron           In the United Kingdom   the weekly comic book interspliced original material to keep up with U  S   reprints           and The Movie provided much new material   Writer Simon Furman proceeded to expand the continuity with movie spin  offs involving the time travelling Galvatron                   The Movie also featured guest voices from Leonard Nimoy as Galvatron   Scatman Crothers as Jazz   Casey Kasem as Cliffjumper   Orson Welles as Unicron and Eric Idle as the leader of the Junkions   Wreck  Gar   though unnamed in the movie     The Transformers theme tune for the film was performed by Lion with   Weird Al   Yankovic adding a song to the soundtrack  The third season followed up The Movie   with the revelation of the Quintessons having used Cybertron as a factory   Their robots rebel   and in time the workers become the Autobots and the soldiers become the Decepticons     Note   This appears to contradict background presented in the first two seasons of the series     It is the Autobots who develop transformation           Due to popular demand           Optimus Prime is resurrected at the conclusion of the third season           and the series ended with a three  episode story arc   However   the Japanese broadcast of the series was supplemented with a newly produced OVA   Scramble City   before creating entirely new series to continue the storyline   ignoring the          end of the American series   The extended Japanese run consisted of The Headmasters   Super  God Masterforce   Victory and Zone   then in illustrated magazine form as Battlestars   Return of Convoy and Operation   Combination   Just as the TV series was wrapping up   Marvel continued to expand its continuity   It followed The Movie  s example by killing Prime         and Megatron           albeit in the present day   Dinobot leader Grimlock takes over as Autobot leader           There was a G  I   Joe crossover         and the limited series The Transformers   Headmasters   which further expanded the scope to the planet Nebulon           It led on to the main title resurrecting Prime as a Powermaster          \"\n",
        "\n",
        "\n",
        "#\"The franchise began in 1984 with the Transformers toy line, comprising transforming mecha toys from Takara's Diaclone and Micro Change toylines rebranded for Western markets.[2] The term Generation 1 covers both the animated television series The Transformers and the comic book series of the same name, which are further divided into Japanese, British and Canadian spin-offs, respectively. Sequels followed, such as the Generation 2 comic book and Beast Wars TV series, which became its own mini-universe. Generation 1 characters underwent two reboots with Dreamwave Productions in 2001 and IDW Publishing in 2005, with a third starting in 2019. There have been other incarnations of the story based on different toy lines during and after the 20th century. The first was the Robots in Disguise series, followed by three shows (Armada, Energon, and Cybertron) that constitute a single universe called the Unicron Trilogy\"\n",
        "\n",
        "data = data.replace(\".\", \"\")\n",
        "data.replace(\",\",\"\")\n",
        "\n",
        "data = data.lower()\n",
        "data = data.split(\" \")\n",
        "\n",
        "\n",
        "uniques = len(set(data))\n",
        "print(uniques)\n",
        "words = list(set(data))\n",
        "\n",
        "numdata = []\n",
        "for word in data:\n",
        "  numdata.append(words.index(word))\n",
        "\n",
        "numdata = torch.IntTensor(numdata)\n",
        "print(numdata)"
      ],
      "metadata": {
        "id": "dSW1Tas9HKyi",
        "outputId": "a2724c05-33f7-4a95-c28d-87f4d24f66a7",
        "colab": {
          "base_uri": "https://localhost:8080/"
        }
      },
      "execution_count": 1,
      "outputs": [
        {
          "output_type": "stream",
          "name": "stdout",
          "text": [
            "519\n",
            "tensor([303, 394,   2,  ...,   0,   0,   0], dtype=torch.int32)\n"
          ]
        }
      ]
    },
    {
      "cell_type": "markdown",
      "source": [
        "Attention implementation with and witout positional matrix"
      ],
      "metadata": {
        "id": "3QGJofbdJWHH"
      }
    },
    {
      "metadata": {
        "id": "DdSGWuLffzEg",
        "colab": {
          "base_uri": "https://localhost:8080/"
        },
        "outputId": "6b00efe0-88b4-4072-c968-e611142f25df"
      },
      "cell_type": "code",
      "source": [
        "import math\n",
        "\n",
        "def get_positional_matrix(seq_len, d, n=10000):\n",
        "    P = torch.zeros((seq_len, d))\n",
        "    for k in range(seq_len):\n",
        "        for i in torch.arange(int(d/2)):\n",
        "            denominator = torch.pow(n, 2*i/d)\n",
        "            P[k, 2*i] = torch.sin(k / denominator)\n",
        "            P[k, 2*i+1] = torch.cos(k / denominator)\n",
        "    return P\n",
        "\n",
        "class self_attention(nn.Module):\n",
        "  def __init__(self):\n",
        "    super().__init__()\n",
        "    self.nums_words = 12\n",
        "    self.nums_dimension = 12\n",
        "    self.Q = nn.Linear(self.nums_words, self.nums_words)\n",
        "    self.K = nn.Linear(self.nums_words, self.nums_words)\n",
        "    self.V = nn.Linear(self.nums_words, self.nums_words)\n",
        "    self.softmax = nn.Softmax(dim=0)\n",
        "    self.embedding = nn.Embedding(519,self.nums_dimension)\n",
        "    self.flatten = nn.Flatten(start_dim=0)\n",
        "    self.preoutput = nn.Linear(self.nums_dimension*self.nums_words,512)\n",
        "    self.gelu = nn.GELU()\n",
        "    self.output = nn.Linear(512, 519)\n",
        "\n",
        "  def forward(self, x):\n",
        "    x = self.embedding(x)\n",
        "    x_q = self.Q(x)\n",
        "    x_k = self.K(x)\n",
        "    x_v = self.V(x)\n",
        "    x_qk =  x_q.matmul(x_k.transpose(0,1))/math.sqrt(12)\n",
        "    x = self.softmax(x_qk).matmul(x_v)\n",
        "    x = self.flatten(x)\n",
        "    x=self.preoutput(x)\n",
        "    x = self.gelu(x)\n",
        "    x = self.output(x)\n",
        "\n",
        "    return x\n",
        "\n",
        "\n",
        "class self_attention_w_pos_enc(nn.Module,):\n",
        "  def __init__(self, device=\"cuda:0\"):\n",
        "    super().__init__()\n",
        "    self.nums_words = 12\n",
        "    self.nums_dimension = 12\n",
        "    self.pos_encoding = get_positional_matrix(self.nums_words, self.nums_dimension)\n",
        "\n",
        "    self.Q = nn.Linear(self.nums_words, self.nums_words).to(device)\n",
        "    self.K = nn.Linear(self.nums_words, self.nums_words).to(device)\n",
        "    self.V = nn.Linear(self.nums_words, self.nums_words).to(device)\n",
        "    self.softmax = nn.Softmax(dim=0)\n",
        "    self.embedding = nn.Embedding(519,self.nums_dimension)\n",
        "    self.flatten = nn.Flatten(start_dim=0)\n",
        "    self.preoutput = nn.Linear(self.nums_dimension*self.nums_words,512).to(device)\n",
        "    self.gelu = nn.GELU()\n",
        "    self.output = nn.Linear(512, 519)\n",
        "\n",
        "  def forward(self, x):\n",
        "    x = self.embedding(x)\n",
        "    x += self.pos_encoding\n",
        "    x_q = self.Q(x)\n",
        "    x_k = self.K(x)\n",
        "    x_v = self.V(x)\n",
        "    x_qk =  x_q.matmul(x_k.transpose(0,1))/math.sqrt(12)\n",
        "    x = self.softmax(x_qk).matmul(x_v)\n",
        "    x = self.flatten(x)\n",
        "    x=self.preoutput(x)\n",
        "    x = self.gelu(x)\n",
        "    x = self.output(x)\n",
        "\n",
        "    return x\n",
        "\n",
        "\n",
        "self_atten = self_attention_w_pos_enc()\n",
        "\n",
        "p = self_atten(numdata[:12])\n",
        "\n",
        "optimizer = torch.optim.Adam(self_atten.parameters(), lr = 0.0001)\n",
        "loss = nn.CrossEntropyLoss()\n",
        "\n",
        "for i in range(100):\n",
        "  for i in range(len(numdata)-13):\n",
        "    optimizer.zero_grad()\n",
        "    x = numdata[i:i+12]\n",
        "    y = torch.zeros(519)\n",
        "    y[numdata[i+13]] = 1\n",
        "    y_p = self_atten(x)\n",
        "    l = loss(y_p, y)\n",
        "    l.backward()\n",
        "    optimizer.step()\n",
        "\n",
        "\n",
        "p = self_atten(numdata[:12])\n",
        "\n",
        "print(p, words[p.argmax()], data[13])\n",
        "\n",
        "for i in range(len(numdata)-13):\n",
        "  x = numdata[i:i+12]\n",
        "  y = data[i+13]\n",
        "  y_p = self_atten(x)\n",
        "\n",
        "  if y != words[y_p.argmax()]:\n",
        "    print(\"Wrong!\")\n",
        "\n"
      ],
      "execution_count": 15,
      "outputs": [
        {
          "output_type": "stream",
          "name": "stdout",
          "text": [
            "tensor([-128.7375, -193.7746, -141.7255, -211.2068, -194.6285, -208.8455,\n",
            "        -102.1331, -192.7075, -216.9061, -240.1178, -191.2650, -166.9013,\n",
            "        -212.9960, -163.2059, -223.6779, -190.0063, -193.2542, -186.1224,\n",
            "        -174.6277, -200.8970, -217.7586, -229.5930, -252.5007, -171.2106,\n",
            "        -154.4470, -221.6252, -202.5825, -220.9910, -176.6868, -245.1772,\n",
            "        -180.0681, -139.4723, -175.1305, -192.3131, -194.1746, -210.9873,\n",
            "        -200.8652, -233.3351, -190.6299, -210.9639, -218.4199, -276.2469,\n",
            "        -216.1633, -184.2116, -174.4018, -203.9505, -202.7981, -175.1299,\n",
            "        -198.6498, -203.1202, -187.6654, -178.9362, -166.8849, -165.4758,\n",
            "        -222.2176, -226.0249, -201.0556, -207.5176, -165.0579, -212.1094,\n",
            "        -181.4093, -179.2953, -158.4271, -165.8242, -227.7105, -169.5444,\n",
            "        -187.4541, -234.1888, -229.7064, -211.7405, -189.4034, -218.9682,\n",
            "        -225.2845, -217.1262, -136.7248, -185.4025, -231.6181, -190.1875,\n",
            "        -202.0353, -148.9270, -187.3373, -209.4615, -207.0979, -161.8744,\n",
            "        -204.9263, -196.4633, -196.0096, -115.1295, -158.0721, -191.5444,\n",
            "        -162.2001, -176.0400, -234.1115, -229.9769, -185.2836, -204.9849,\n",
            "        -150.1257, -214.4774, -144.8754, -195.9740, -199.1315, -185.7068,\n",
            "        -205.6393, -155.8623, -173.9874, -212.8624, -211.2563, -191.1521,\n",
            "        -197.7279, -191.7347, -165.5617, -191.3700, -150.4972, -217.5150,\n",
            "        -181.1620, -208.0569, -198.5250, -153.1871, -218.0368, -210.9448,\n",
            "        -213.5340, -212.8187, -223.8461, -175.4819, -166.1364, -228.4995,\n",
            "        -188.5248, -156.1207, -174.7064, -227.3640, -191.9121, -172.2685,\n",
            "        -219.9415, -223.4578, -168.2373, -179.8403, -208.2964, -198.3596,\n",
            "        -183.7882, -197.1105, -144.6604, -147.5704, -206.3800, -220.8320,\n",
            "        -165.9327, -163.4539, -178.0349, -164.2662, -234.4120, -242.5847,\n",
            "        -202.8200, -188.0441, -209.3140, -185.6437, -209.4217, -230.1554,\n",
            "        -193.5557, -218.2295, -167.0632, -280.1063, -173.9007, -234.8593,\n",
            "        -186.0043, -199.1996, -230.4869, -231.2088, -188.0641, -193.5177,\n",
            "        -170.2590, -220.4020, -169.5759, -195.6790, -215.6598, -179.0493,\n",
            "        -185.9787, -183.8023, -243.9775, -187.8585, -189.6158, -182.1755,\n",
            "        -159.2576, -210.7016, -194.4670, -201.0358, -211.9473, -190.4632,\n",
            "        -189.0822, -233.0512, -186.4235, -172.5380, -233.6061, -133.9572,\n",
            "        -195.1261, -221.5254, -201.9105, -254.1035, -187.5128, -205.0788,\n",
            "        -177.8032, -179.7169, -161.8131, -169.4215, -187.2577, -201.3851,\n",
            "        -196.9651, -177.4167, -199.6135, -211.0249, -144.5222, -178.3282,\n",
            "        -181.3852, -203.4716, -170.3700, -210.3542, -221.0976, -172.8079,\n",
            "        -189.4629, -197.0198, -187.4774, -193.0024, -176.9745, -172.5752,\n",
            "        -171.0959, -120.7174, -180.0233, -173.9623, -194.0467, -197.5327,\n",
            "        -173.4760, -188.9140, -157.2891, -206.5508, -191.8005, -172.8227,\n",
            "        -224.0534, -191.1231, -180.5854, -213.9852, -228.7559, -208.1082,\n",
            "        -189.5296, -210.4267, -154.3025, -159.0501, -202.2351, -167.8155,\n",
            "        -209.3377, -208.5304, -180.6055, -183.4816, -210.9598, -202.9731,\n",
            "        -224.2124, -199.7316, -158.7165, -183.7683, -163.4867, -205.2370,\n",
            "        -189.2914, -194.8524, -232.7442, -167.0679, -207.4317, -209.5630,\n",
            "        -122.2840, -151.7613, -200.1658, -191.7622, -226.3881, -192.6845,\n",
            "        -157.1135, -172.2024, -266.9632, -202.7151, -187.2146, -215.9505,\n",
            "        -168.7360, -235.1453, -274.5984, -177.5334, -228.4534, -234.8604,\n",
            "        -241.4772, -176.5964, -197.0813, -224.4161, -225.7992, -232.0837,\n",
            "        -199.6800, -282.3243, -209.7957, -204.0631, -190.7614, -192.1119,\n",
            "        -190.6244, -178.2374, -218.8164, -187.7121, -167.9686, -164.8480,\n",
            "        -188.2365, -177.7813, -218.0010, -157.6686, -172.0230, -198.1727,\n",
            "        -185.2614, -176.5908, -216.8066, -195.0857, -198.2851, -181.9120,\n",
            "        -143.3160, -181.6278, -182.9276, -136.3734, -158.3926, -184.1626,\n",
            "        -218.2602, -226.8697, -257.1556, -185.2415, -228.7289, -190.7621,\n",
            "        -164.1027, -221.3279, -230.7406, -220.0303, -151.8658, -219.4487,\n",
            "        -221.6245, -178.6689, -186.5636, -175.0117, -203.8704, -203.9380,\n",
            "        -162.2082, -203.8031, -184.6216, -183.8485, -209.6912, -217.4893,\n",
            "        -185.9734, -185.1458, -216.6826, -206.2339, -142.1166, -213.9281,\n",
            "        -228.7487, -165.6532, -176.0147, -181.6392, -146.9696, -175.4755,\n",
            "        -188.7114, -215.2310, -196.6211, -185.7519, -210.3040, -155.5417,\n",
            "        -172.4619, -207.5787, -191.7117, -155.8032, -171.2955, -236.7001,\n",
            "        -177.2801, -198.8775, -187.6070, -177.0950, -194.3545, -156.9442,\n",
            "        -253.6131, -192.5150, -206.2008, -159.9077, -218.3225, -251.8780,\n",
            "        -192.0633, -204.7949, -171.3664, -230.9704, -219.0434, -197.5876,\n",
            "        -196.5427, -210.3075, -229.4851, -169.1766, -220.2504, -199.9994,\n",
            "        -222.8989, -199.8598, -234.8894, -141.1471, -202.6335, -196.8404,\n",
            "        -188.9801, -182.0651, -162.6581, -152.6429, -224.4179, -222.9376,\n",
            "        -208.6211, -201.9553, -198.5467, -186.2411, -204.7259, -168.0681,\n",
            "        -231.7820, -177.5704, -152.4080, -166.9763, -178.4731, -198.8938,\n",
            "        -171.8501, -174.9208, -189.8794, -157.3479, -182.3954, -200.4534,\n",
            "        -222.8639, -187.4358, -239.8038, -197.4434, -191.4914, -213.4763,\n",
            "        -200.6597, -156.7963, -172.3895, -179.4228, -163.3661, -160.5328,\n",
            "        -217.3211, -209.1909, -201.3778, -204.5957, -234.2675, -155.4426,\n",
            "        -175.2825, -194.6880, -188.4630, -181.7312, -195.7823, -213.1538,\n",
            "        -179.6932, -188.5140, -158.1559, -200.4494, -181.3765, -175.4918,\n",
            "        -207.0942, -165.3955, -158.6908, -172.8559, -182.2007, -205.6128,\n",
            "        -206.2437, -237.9518, -192.5384, -166.8333, -182.9097, -181.1549,\n",
            "        -196.7355, -203.1831, -217.6149, -140.2766, -231.1612, -203.2560,\n",
            "        -180.8288, -191.2514, -240.5585, -193.4727, -185.1952, -215.4559,\n",
            "        -216.9114, -233.4982, -161.0748, -239.7988, -195.4834, -155.8855,\n",
            "        -199.7628, -160.6959, -251.0615, -194.7412, -172.1082, -196.5509,\n",
            "        -186.9709, -157.1389, -152.3140, -232.3219, -229.6096, -171.6608,\n",
            "        -199.2046, -139.4753, -215.4616, -139.5505, -189.7567, -255.1704,\n",
            "        -204.4474, -181.7581, -214.6121, -168.4035, -213.4667, -197.7016,\n",
            "        -218.4209, -217.2265, -206.7017, -195.4105, -213.6805, -252.4110,\n",
            "        -194.3291, -175.0482, -195.9202, -228.4360, -181.7583, -190.4047,\n",
            "        -181.2819, -147.4898, -180.8809], grad_fn=<AddBackward0>) toy toy\n",
            "Wrong!\n",
            "Wrong!\n",
            "Wrong!\n",
            "Wrong!\n",
            "Wrong!\n",
            "Wrong!\n",
            "Wrong!\n",
            "Wrong!\n",
            "Wrong!\n",
            "Wrong!\n",
            "Wrong!\n",
            "Wrong!\n",
            "Wrong!\n",
            "Wrong!\n",
            "Wrong!\n",
            "Wrong!\n",
            "Wrong!\n",
            "Wrong!\n",
            "Wrong!\n",
            "Wrong!\n",
            "Wrong!\n",
            "Wrong!\n",
            "Wrong!\n",
            "Wrong!\n",
            "Wrong!\n",
            "Wrong!\n",
            "Wrong!\n"
          ]
        }
      ]
    }
  ]
}